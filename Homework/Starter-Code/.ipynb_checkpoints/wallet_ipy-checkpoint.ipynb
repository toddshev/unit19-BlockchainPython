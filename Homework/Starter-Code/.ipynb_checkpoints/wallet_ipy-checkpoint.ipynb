{
 "cells": [
  {
   "cell_type": "code",
   "execution_count": null,
   "metadata": {},
   "outputs": [],
   "source": [
    "import subprocess\n",
    "import json\n",
    "import os\n",
    "\n",
    "from dotenv import load_dotenv\n",
    "from web3 import Web3, IPCProvider\n",
    "from eth_account import Account\n",
    "from bit import wif_to_key, PrivateKeyTestnet\n",
    "from bit.network import NetworkAPI\n",
    "from web3.auto.gethdev import w3\n",
    "from web3.middleware import geth_poa_middleware\n",
    "from web3.gas_strategies.time_based import medium_gas_price_strategy\n",
    "#from getpass import getpass\n",
    "from constants import *\n",
    "\n",
    "load_dotenv()"
   ]
  },
  {
   "cell_type": "code",
   "execution_count": null,
   "metadata": {},
   "outputs": [],
   "source": [
    "def derive_wallets(mnemonic, coin, numderive):\n",
    "    mnemonic = os.getenv(\"mnemonic\")\n",
    "    command = f'php ./derive -g --mnemonic=\"{mnemonic}\" --cols=path,address,privkey,pubkey --coin = \"{coins}\" --numderive = \"{numderive}\" --format=json'\n",
    "\n",
    "    p = subprocess.Popen(command, stdout=subprocess.PIPE, shell=True)\n",
    "    output, err = p.communicate()\n",
    "    p_status = p.wait()\n",
    "\n",
    "    keys = json.loads(output)\n",
    "    return keys"
   ]
  },
  {
   "cell_type": "code",
   "execution_count": null,
   "metadata": {},
   "outputs": [],
   "source": [
    "derive_wallets(mnemonic, ETH, 2)"
   ]
  },
  {
   "cell_type": "code",
   "execution_count": null,
   "metadata": {},
   "outputs": [],
   "source": []
  },
  {
   "cell_type": "code",
   "execution_count": null,
   "metadata": {},
   "outputs": [],
   "source": [
    "def coins():\n",
    "    coin_dict = {\n",
    "        'btc-test' : derive_wallets(mnemonic, BTCTEST, 3),\n",
    "        'eth' : derive_wallets(mnemonic, ETH, 3)\n",
    "        #add others\n",
    "    }"
   ]
  },
  {
   "cell_type": "code",
   "execution_count": null,
   "metadata": {},
   "outputs": [],
   "source": [
    "coins()"
   ]
  },
  {
   "cell_type": "code",
   "execution_count": null,
   "metadata": {},
   "outputs": [],
   "source": [
    "#test\n",
    "coins()[BTCTEST][0]['privkey']"
   ]
  },
  {
   "cell_type": "code",
   "execution_count": null,
   "metadata": {},
   "outputs": [],
   "source": [
    "def priv_key_to_account(coin, priv_key):\n",
    "    if coin == ETH:\n",
    "        return Account.privateKeyToAccount(priv_key)\n",
    "    elif coin == BTCTEST:\n",
    "        return PrivateKeyTestnet(priv_key)\n",
    "    else:\n",
    "        return \"Sorry, could not find coin\"\n",
    "    "
   ]
  },
  {
   "cell_type": "code",
   "execution_count": null,
   "metadata": {},
   "outputs": [],
   "source": [
    "#test\n",
    "priv_key_to_account(ETH, derive_wallets(mnemonic, ETH, 3)[0]['privkey'])"
   ]
  },
  {
   "cell_type": "code",
   "execution_count": null,
   "metadata": {},
   "outputs": [],
   "source": [
    "eth_account = priv_key_to_account(ETH, derive_wallets(mnemonic, ETH, 3)[0]['privkey'])\n",
    "btc_account = priv_key_to_account(BTCTEST, derive_wallets(mnemonic, BTCTEST, 3)[0]['privkey'])"
   ]
  },
  {
   "cell_type": "code",
   "execution_count": null,
   "metadata": {},
   "outputs": [],
   "source": [
    "w3 = Web3(Web3.HTTPProvider(\"http://127.0.0.1:8545\"))\n",
    "w3.middleware_onion.inject(geth_poa_middleware, layer=0)\n",
    "\n",
    "private_key = os.getenv(\"PRIVATE_KEY\")\n",
    "\n",
    "account_one = Account.from_key(private_key)"
   ]
  },
  {
   "cell_type": "code",
   "execution_count": null,
   "metadata": {},
   "outputs": [],
   "source": []
  },
  {
   "cell_type": "code",
   "execution_count": null,
   "metadata": {},
   "outputs": [],
   "source": [
    "def create_raw_tx(coin, account, recipient, amount):\n",
    "    if coin == ETH:\n",
    "        gasEstimate = w3.eth.estimateGas({\n",
    "             \"from\": eth_account.address,\n",
    "             \"to\": recipient,\n",
    "             \"value\": w3.toWei(amount, 'ether')}\n",
    "        )\n",
    "        return {\n",
    "            \"from\": account.address,\n",
    "            \"to\": recipient,\n",
    "            \"value\": amount,\n",
    "            \"gasPrice\": w3.eth.gasPrice,\n",
    "            \"gas\": gasEstimate,\n",
    "            \"nonce\": w3.eth.getTransactionCount(account.address),\n",
    "        }\n",
    "    elif coin == BTCTEST:\n",
    "        return PrivateKeyTestnet.prepare_transaction(btc_account.address, [(recipient, amount, BTC)])\n",
    "    else:\n",
    "        return \"Key Error\""
   ]
  },
  {
   "cell_type": "code",
   "execution_count": null,
   "metadata": {},
   "outputs": [],
   "source": [
    "def send_tx(coin, account, recipient, amount):\n",
    "    tx = create_raw_tx(coin, account, recipient, amount)\n",
    "    \n",
    "    if coin == ETH:\n",
    "        signed_tx = eth_account.sign_transaction(tx)\n",
    "        result = w3.eth.sendRawTransaction(signed_tx.rawTransaction)\n",
    "        return result\n",
    "    elif coin == BTCTEST:\n",
    "        signed_tx = btc_account.sign_transaction(tx)\n",
    "        result = NetworkAPI.broadcast_tx_testnet(signed_tx)\n",
    "        return result\n",
    "    else:\n",
    "        return \"Error\""
   ]
  },
  {
   "cell_type": "code",
   "execution_count": null,
   "metadata": {},
   "outputs": [],
   "source": [
    "#Run blockchain"
   ]
  },
  {
   "cell_type": "code",
   "execution_count": null,
   "metadata": {},
   "outputs": [],
   "source": [
    "btctest_ac = \"\"\n",
    "btctest_recip = \"\"\n",
    "\n",
    "send_tx(BTCTEST, btctest_ac, btctest_recip, 0.000000002)"
   ]
  },
  {
   "cell_type": "code",
   "execution_count": null,
   "metadata": {},
   "outputs": [],
   "source": []
  },
  {
   "cell_type": "code",
   "execution_count": null,
   "metadata": {},
   "outputs": [],
   "source": [
    "#web 3\n",
    "w3 = Web3(Web3.HTTPProvider(\"http://127.0.0.1:8545\"))\n",
    "w3.middleware_onion.inject(geth_poa_middleware, layer=0)"
   ]
  },
  {
   "cell_type": "code",
   "execution_count": null,
   "metadata": {},
   "outputs": [],
   "source": [
    "node1_bal = w3.eth.getBalance(\"Address1\")\n",
    "node2_bal = w3.eth.getBalance(\"Address2\")"
   ]
  },
  {
   "cell_type": "code",
   "execution_count": null,
   "metadata": {},
   "outputs": [],
   "source": [
    "#Transactions\n",
    "create_tx(ETH,eth_account, \"Address\", 2000)\n",
    "\n",
    "send_tx(ETH, eth_account, \"Address\", 2000)"
   ]
  },
  {
   "cell_type": "code",
   "execution_count": null,
   "metadata": {},
   "outputs": [],
   "source": [
    "block = w3.eth.get_block('latest')\n",
    "block"
   ]
  }
 ],
 "metadata": {
  "kernelspec": {
   "display_name": "Python 3",
   "language": "python",
   "name": "python3"
  },
  "language_info": {
   "codemirror_mode": {
    "name": "ipython",
    "version": 3
   },
   "file_extension": ".py",
   "mimetype": "text/x-python",
   "name": "python",
   "nbconvert_exporter": "python",
   "pygments_lexer": "ipython3",
   "version": "3.7.9"
  }
 },
 "nbformat": 4,
 "nbformat_minor": 4
}
